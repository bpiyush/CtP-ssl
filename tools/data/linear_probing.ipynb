{
 "cells": [
  {
   "cell_type": "code",
   "execution_count": 1,
   "id": "ce7f60eb-9f3b-4d65-8bd7-195d465d1748",
   "metadata": {},
   "outputs": [],
   "source": [
    "%load_ext autoreload\n",
    "%autoreload 2"
   ]
  },
  {
   "cell_type": "code",
   "execution_count": 2,
   "id": "d003ba10-d6a6-4645-bcf6-9e3bfe7f3bcc",
   "metadata": {},
   "outputs": [],
   "source": [
    "from os.path import join, abspath, dirname\n",
    "\n",
    "from mmcv import Config\n",
    "\n",
    "from pyvrl.builder import build_dataset, build_model\n",
    "from pyvrl.datasets.transforms import GroupToTensor"
   ]
  },
  {
   "cell_type": "markdown",
   "id": "5d4407e5-43a7-40fd-b245-40c559b68d48",
   "metadata": {
    "tags": []
   },
   "source": [
    "### Setup"
   ]
  },
  {
   "cell_type": "code",
   "execution_count": 3,
   "id": "0d5d8aa9-51b5-497d-95f1-45e73197f68b",
   "metadata": {},
   "outputs": [],
   "source": [
    "repo_path = dirname(dirname(abspath(\".\")))"
   ]
  },
  {
   "cell_type": "code",
   "execution_count": 4,
   "id": "cc2e8342-a216-43e3-b9bc-74e1be61e3e2",
   "metadata": {},
   "outputs": [],
   "source": [
    "cfg_path = join(repo_path, \"configs/ctp/r2plus1d_18_ucf101/finetune_ucf101.py\")"
   ]
  },
  {
   "cell_type": "code",
   "execution_count": 5,
   "id": "f74123e8-c2ad-40bd-b91c-cb89b0cce760",
   "metadata": {},
   "outputs": [],
   "source": [
    "cfg = Config.fromfile(cfg_path)"
   ]
  },
  {
   "cell_type": "code",
   "execution_count": 6,
   "id": "b057ff0f-f8a0-4fb8-99c5-22070e289785",
   "metadata": {},
   "outputs": [],
   "source": [
    "# cfg.model.backbone.pretrained = None\n",
    "cfg.model.backbone.pretrained = \"/home/pbagad/projects/ssl_benchmark\"\\\n",
    "    \"/checkpoints/CTP/Kinetics/pretext_checkpoint/r2p1d18_ctp_k400_epoch_90.pth\""
   ]
  },
  {
   "cell_type": "markdown",
   "id": "bb41eec3-fb83-4ebd-82f5-d1930142b24e",
   "metadata": {},
   "source": [
    "### Build model"
   ]
  },
  {
   "cell_type": "code",
   "execution_count": 7,
   "id": "04afb08f-eec4-4289-8388-26a25142a942",
   "metadata": {},
   "outputs": [],
   "source": [
    "model = build_model(cfg.model)"
   ]
  },
  {
   "cell_type": "code",
   "execution_count": 9,
   "id": "cce62519-7a90-46d9-b61a-83a0ad4629be",
   "metadata": {},
   "outputs": [],
   "source": [
    "for param in model.backbone.parameters():\n",
    "    param.requires_grad_(False)"
   ]
  },
  {
   "cell_type": "code",
   "execution_count": null,
   "id": "b33bc378-d3ec-44b0-81cb-0c909176f972",
   "metadata": {},
   "outputs": [],
   "source": []
  }
 ],
 "metadata": {
  "kernelspec": {
   "display_name": "Python 3 (ipykernel)",
   "language": "python",
   "name": "python3"
  },
  "language_info": {
   "codemirror_mode": {
    "name": "ipython",
    "version": 3
   },
   "file_extension": ".py",
   "mimetype": "text/x-python",
   "name": "python",
   "nbconvert_exporter": "python",
   "pygments_lexer": "ipython3",
   "version": "3.7.11"
  }
 },
 "nbformat": 4,
 "nbformat_minor": 5
}
